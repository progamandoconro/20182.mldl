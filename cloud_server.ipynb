{
  "nbformat": 4,
  "nbformat_minor": 0,
  "metadata": {
    "colab": {
      "name": "Untitled0.ipynb",
      "provenance": [],
      "authorship_tag": "ABX9TyNwYzGqijNKuIWNO5lLuLg0",
      "include_colab_link": true
    },
    "kernelspec": {
      "name": "python3",
      "display_name": "Python 3"
    }
  },
  "cells": [
    {
      "cell_type": "markdown",
      "metadata": {
        "id": "view-in-github",
        "colab_type": "text"
      },
      "source": [
        "<a href=\"https://colab.research.google.com/github/progamandoconro/20182.mldl/blob/master/cloud_server.ipynb\" target=\"_parent\"><img src=\"https://colab.research.google.com/assets/colab-badge.svg\" alt=\"Open In Colab\"/></a>"
      ]
    },
    {
      "cell_type": "code",
      "metadata": {
        "id": "tym1KvERjvx9",
        "colab_type": "code",
        "colab": {}
      },
      "source": [
        "import os\n"
      ],
      "execution_count": 0,
      "outputs": []
    },
    {
      "cell_type": "markdown",
      "metadata": {
        "id": "7ro-Y8ehkLvL",
        "colab_type": "text"
      },
      "source": [
        ""
      ]
    },
    {
      "cell_type": "code",
      "metadata": {
        "id": "sdv309gbkNhw",
        "colab_type": "code",
        "colab": {
          "base_uri": "https://localhost:8080/",
          "height": 63
        },
        "outputId": "870b8409-119a-4fc1-9814-9d298affb35c"
      },
      "source": [
        "import tensorflow"
      ],
      "execution_count": 5,
      "outputs": [
        {
          "output_type": "display_data",
          "data": {
            "text/html": [
              "<p style=\"color: red;\">\n",
              "The default version of TensorFlow in Colab will soon switch to TensorFlow 2.x.<br>\n",
              "We recommend you <a href=\"https://www.tensorflow.org/guide/migrate\" target=\"_blank\">upgrade</a> now \n",
              "or ensure your notebook will continue to use TensorFlow 1.x via the <code>%tensorflow_version 1.x</code> magic:\n",
              "<a href=\"https://colab.research.google.com/notebooks/tensorflow_version.ipynb\" target=\"_blank\">more info</a>.</p>\n"
            ],
            "text/plain": [
              "<IPython.core.display.HTML object>"
            ]
          },
          "metadata": {
            "tags": []
          }
        }
      ]
    },
    {
      "cell_type": "markdown",
      "metadata": {
        "id": "Qlki01R3kike",
        "colab_type": "text"
      },
      "source": [
        "![alt text](https://)"
      ]
    },
    {
      "cell_type": "code",
      "metadata": {
        "id": "JP1oievAkpC1",
        "colab_type": "code",
        "colab": {
          "base_uri": "https://localhost:8080/",
          "height": 17
        },
        "outputId": "8d7ff8e5-d4f1-4fd2-e2c2-048acdeb9da5"
      },
      "source": [
        "%%javascript\n",
        "const listenerChannel = new BroadcastChannel('channel');\n",
        "listenerChannel.onmessage = (msg) => {\n",
        "  const div = document.createElement('div');\n",
        "  div.textContent = msg.data;\n",
        "  document.body.appendChild(div);\n",
        "};"
      ],
      "execution_count": 6,
      "outputs": [
        {
          "output_type": "display_data",
          "data": {
            "application/javascript": [
              "const listenerChannel = new BroadcastChannel('channel');\n",
              "listenerChannel.onmessage = (msg) => {\n",
              "  const div = document.createElement('div');\n",
              "  div.textContent = msg.data;\n",
              "  document.body.appendChild(div);\n",
              "};"
            ],
            "text/plain": [
              "<IPython.core.display.Javascript object>"
            ]
          },
          "metadata": {
            "tags": []
          }
        }
      ]
    },
    {
      "cell_type": "code",
      "metadata": {
        "id": "XYKuxYnTk0pO",
        "colab_type": "code",
        "colab": {
          "base_uri": "https://localhost:8080/",
          "height": 17
        },
        "outputId": "788479e6-431a-44c5-d45c-02a4e6c9ce19"
      },
      "source": [
        "%%javascript\n",
        "console.log('Hello from JS')"
      ],
      "execution_count": 11,
      "outputs": [
        {
          "output_type": "display_data",
          "data": {
            "application/javascript": [
              "console.log('Hello from JS')"
            ],
            "text/plain": [
              "<IPython.core.display.Javascript object>"
            ]
          },
          "metadata": {
            "tags": []
          }
        }
      ]
    },
    {
      "cell_type": "code",
      "metadata": {
        "id": "jGTiyrT0lerk",
        "colab_type": "code",
        "colab": {
          "base_uri": "https://localhost:8080/",
          "height": 1000
        },
        "outputId": "4b7c5018-1252-425d-be70-856d8b176177"
      },
      "source": [
        "%%bash\n",
        "echo 'hola from SH'\n",
        "apt install ssh -y"
      ],
      "execution_count": 15,
      "outputs": [
        {
          "output_type": "stream",
          "text": [
            "hola from SH\n",
            "Reading package lists...\n",
            "Building dependency tree...\n",
            "Reading state information...\n",
            "The following additional packages will be installed:\n",
            "  ncurses-term openssh-server openssh-sftp-server python3-certifi\n",
            "  python3-chardet python3-idna python3-pkg-resources python3-requests\n",
            "  python3-six python3-urllib3 ssh-import-id\n",
            "Suggested packages:\n",
            "  molly-guard monkeysphere rssh ssh-askpass ufw python3-setuptools\n",
            "  python3-cryptography python3-openssl python3-socks\n",
            "The following NEW packages will be installed:\n",
            "  ncurses-term openssh-server openssh-sftp-server python3-certifi\n",
            "  python3-chardet python3-idna python3-pkg-resources python3-requests\n",
            "  python3-six python3-urllib3 ssh ssh-import-id\n",
            "0 upgraded, 12 newly installed, 0 to remove and 25 not upgraded.\n",
            "Need to get 1,154 kB of archives.\n",
            "After this operation, 7,710 kB of additional disk space will be used.\n",
            "Get:1 http://archive.ubuntu.com/ubuntu bionic-updates/main amd64 openssh-sftp-server amd64 1:7.6p1-4ubuntu0.3 [45.6 kB]\n",
            "Get:2 http://archive.ubuntu.com/ubuntu bionic-updates/main amd64 openssh-server amd64 1:7.6p1-4ubuntu0.3 [333 kB]\n",
            "Get:3 http://archive.ubuntu.com/ubuntu bionic-updates/main amd64 ssh all 1:7.6p1-4ubuntu0.3 [5,204 B]\n",
            "Get:4 http://archive.ubuntu.com/ubuntu bionic-updates/main amd64 ncurses-term all 6.1-1ubuntu1.18.04 [248 kB]\n",
            "Get:5 http://archive.ubuntu.com/ubuntu bionic/main amd64 python3-certifi all 2018.1.18-2 [144 kB]\n",
            "Get:6 http://archive.ubuntu.com/ubuntu bionic/main amd64 python3-pkg-resources all 39.0.1-2 [98.8 kB]\n",
            "Get:7 http://archive.ubuntu.com/ubuntu bionic/main amd64 python3-chardet all 3.0.4-1 [80.3 kB]\n",
            "Get:8 http://archive.ubuntu.com/ubuntu bionic/main amd64 python3-idna all 2.6-1 [32.5 kB]\n",
            "Get:9 http://archive.ubuntu.com/ubuntu bionic/main amd64 python3-six all 1.11.0-2 [11.4 kB]\n",
            "Get:10 http://archive.ubuntu.com/ubuntu bionic-updates/main amd64 python3-urllib3 all 1.22-1ubuntu0.18.04.1 [86.0 kB]\n",
            "Get:11 http://archive.ubuntu.com/ubuntu bionic-updates/main amd64 python3-requests all 2.18.4-2ubuntu0.1 [58.3 kB]\n",
            "Get:12 http://archive.ubuntu.com/ubuntu bionic-updates/main amd64 ssh-import-id all 5.7-0ubuntu1.1 [10.9 kB]\n",
            "Preconfiguring packages ...\n",
            "Fetched 1,154 kB in 1s (1,346 kB/s)\n",
            "Selecting previously unselected package openssh-sftp-server.\r\n",
            "(Reading database ... \r(Reading database ... 5%\r(Reading database ... 10%\r(Reading database ... 15%\r(Reading database ... 20%\r(Reading database ... 25%\r(Reading database ... 30%\r(Reading database ... 35%\r(Reading database ... 40%\r(Reading database ... 45%\r(Reading database ... 50%\r(Reading database ... 55%\r(Reading database ... 60%\r(Reading database ... 65%\r(Reading database ... 70%\r(Reading database ... 75%\r(Reading database ... 80%\r(Reading database ... 85%\r(Reading database ... 90%\r(Reading database ... 95%\r(Reading database ... 100%\r(Reading database ... 133872 files and directories currently installed.)\r\n",
            "Preparing to unpack .../00-openssh-sftp-server_1%3a7.6p1-4ubuntu0.3_amd64.deb ...\r\n",
            "Unpacking openssh-sftp-server (1:7.6p1-4ubuntu0.3) ...\r\n",
            "Selecting previously unselected package openssh-server.\r\n",
            "Preparing to unpack .../01-openssh-server_1%3a7.6p1-4ubuntu0.3_amd64.deb ...\r\n",
            "Unpacking openssh-server (1:7.6p1-4ubuntu0.3) ...\r\n",
            "Selecting previously unselected package ssh.\r\n",
            "Preparing to unpack .../02-ssh_1%3a7.6p1-4ubuntu0.3_all.deb ...\r\n",
            "Unpacking ssh (1:7.6p1-4ubuntu0.3) ...\r\n",
            "Selecting previously unselected package ncurses-term.\r\n",
            "Preparing to unpack .../03-ncurses-term_6.1-1ubuntu1.18.04_all.deb ...\r\n",
            "Unpacking ncurses-term (6.1-1ubuntu1.18.04) ...\r\n",
            "Selecting previously unselected package python3-certifi.\r\n",
            "Preparing to unpack .../04-python3-certifi_2018.1.18-2_all.deb ...\r\n",
            "Unpacking python3-certifi (2018.1.18-2) ...\r\n",
            "Selecting previously unselected package python3-pkg-resources.\r\n",
            "Preparing to unpack .../05-python3-pkg-resources_39.0.1-2_all.deb ...\r\n",
            "Unpacking python3-pkg-resources (39.0.1-2) ...\r\n",
            "Selecting previously unselected package python3-chardet.\r\n",
            "Preparing to unpack .../06-python3-chardet_3.0.4-1_all.deb ...\r\n",
            "Unpacking python3-chardet (3.0.4-1) ...\r\n",
            "Selecting previously unselected package python3-idna.\r\n",
            "Preparing to unpack .../07-python3-idna_2.6-1_all.deb ...\r\n",
            "Unpacking python3-idna (2.6-1) ...\r\n",
            "Selecting previously unselected package python3-six.\r\n",
            "Preparing to unpack .../08-python3-six_1.11.0-2_all.deb ...\r\n",
            "Unpacking python3-six (1.11.0-2) ...\r\n",
            "Selecting previously unselected package python3-urllib3.\r\n",
            "Preparing to unpack .../09-python3-urllib3_1.22-1ubuntu0.18.04.1_all.deb ...\r\n",
            "Unpacking python3-urllib3 (1.22-1ubuntu0.18.04.1) ...\r\n",
            "Selecting previously unselected package python3-requests.\r\n",
            "Preparing to unpack .../10-python3-requests_2.18.4-2ubuntu0.1_all.deb ...\r\n",
            "Unpacking python3-requests (2.18.4-2ubuntu0.1) ...\r\n",
            "Selecting previously unselected package ssh-import-id.\r\n",
            "Preparing to unpack .../11-ssh-import-id_5.7-0ubuntu1.1_all.deb ...\r\n",
            "Unpacking ssh-import-id (5.7-0ubuntu1.1) ...\r\n",
            "Setting up ncurses-term (6.1-1ubuntu1.18.04) ...\r\n",
            "Setting up python3-idna (2.6-1) ...\r\n",
            "Setting up python3-six (1.11.0-2) ...\r\n",
            "Setting up python3-certifi (2018.1.18-2) ...\r\n",
            "Setting up python3-pkg-resources (39.0.1-2) ...\r\n",
            "Setting up openssh-sftp-server (1:7.6p1-4ubuntu0.3) ...\r\n",
            "Setting up python3-chardet (3.0.4-1) ...\r\n",
            "Setting up python3-urllib3 (1.22-1ubuntu0.18.04.1) ...\r\n",
            "Setting up openssh-server (1:7.6p1-4ubuntu0.3) ...\r\n",
            "\r\n",
            "Creating config file /etc/ssh/sshd_config with new version\r\n",
            "Creating SSH2 RSA key; this may take some time ...\r\n",
            "2048 SHA256:G9zZDB10RVrmyihO+FzCUJqSUjT65yThX7WiUgFRQA0 root@d2f2b68a5558 (RSA)\r\n",
            "Creating SSH2 ECDSA key; this may take some time ...\r\n",
            "256 SHA256:OgoSxBB4h2ClqH7YafEMTK7RmTYlZpRmYkpxfhSlP+w root@d2f2b68a5558 (ECDSA)\r\n",
            "Creating SSH2 ED25519 key; this may take some time ...\r\n",
            "256 SHA256:yIx6f1q8Tux5KUCz+Lhtph3yOHHIS6rZmPcSbx3VyuI root@d2f2b68a5558 (ED25519)\r\n",
            "Created symlink /etc/systemd/system/sshd.service → /lib/systemd/system/ssh.service.\r\n",
            "Created symlink /etc/systemd/system/multi-user.target.wants/ssh.service → /lib/systemd/system/ssh.service.\r\n",
            "invoke-rc.d: could not determine current runlevel\r\n",
            "invoke-rc.d: policy-rc.d denied execution of start.\r\n",
            "Setting up python3-requests (2.18.4-2ubuntu0.1) ...\r\n",
            "Setting up ssh-import-id (5.7-0ubuntu1.1) ...\r\n",
            "Setting up ssh (1:7.6p1-4ubuntu0.3) ...\r\n",
            "Processing triggers for man-db (2.8.3-2ubuntu0.1) ...\r\n",
            "Processing triggers for systemd (237-3ubuntu10.39) ...\r\n"
          ],
          "name": "stdout"
        },
        {
          "output_type": "stream",
          "text": [
            "\n",
            "WARNING: apt does not have a stable CLI interface. Use with caution in scripts.\n",
            "\n"
          ],
          "name": "stderr"
        }
      ]
    },
    {
      "cell_type": "code",
      "metadata": {
        "id": "s_sCRtK0l5GW",
        "colab_type": "code",
        "colab": {
          "base_uri": "https://localhost:8080/",
          "height": 496
        },
        "outputId": "8fb92a6b-8370-43f8-ba4d-5f5c39ab20a6"
      },
      "source": [
        "%%bash\n",
        "lscpu \n",
        "free -m"
      ],
      "execution_count": 22,
      "outputs": [
        {
          "output_type": "stream",
          "text": [
            "Architecture:        x86_64\n",
            "CPU op-mode(s):      32-bit, 64-bit\n",
            "Byte Order:          Little Endian\n",
            "CPU(s):              2\n",
            "On-line CPU(s) list: 0,1\n",
            "Thread(s) per core:  2\n",
            "Core(s) per socket:  1\n",
            "Socket(s):           1\n",
            "NUMA node(s):        1\n",
            "Vendor ID:           GenuineIntel\n",
            "CPU family:          6\n",
            "Model:               63\n",
            "Model name:          Intel(R) Xeon(R) CPU @ 2.30GHz\n",
            "Stepping:            0\n",
            "CPU MHz:             2300.000\n",
            "BogoMIPS:            4600.00\n",
            "Hypervisor vendor:   KVM\n",
            "Virtualization type: full\n",
            "L1d cache:           32K\n",
            "L1i cache:           32K\n",
            "L2 cache:            256K\n",
            "L3 cache:            46080K\n",
            "NUMA node0 CPU(s):   0,1\n",
            "Flags:               fpu vme de pse tsc msr pae mce cx8 apic sep mtrr pge mca cmov pat pse36 clflush mmx fxsr sse sse2 ss ht syscall nx pdpe1gb rdtscp lm constant_tsc rep_good nopl xtopology nonstop_tsc cpuid tsc_known_freq pni pclmulqdq ssse3 fma cx16 pcid sse4_1 sse4_2 x2apic movbe popcnt aes xsave avx f16c rdrand hypervisor lahf_lm abm invpcid_single ssbd ibrs ibpb stibp fsgsbase tsc_adjust bmi1 avx2 smep bmi2 erms invpcid xsaveopt arat md_clear arch_capabilities\n",
            "              total        used        free      shared  buff/cache   available\n",
            "Mem:          13022         623        9683           0        2715       12129\n",
            "Swap:             0           0           0\n"
          ],
          "name": "stdout"
        }
      ]
    },
    {
      "cell_type": "code",
      "metadata": {
        "id": "FlATJSTAnFVk",
        "colab_type": "code",
        "colab": {
          "base_uri": "https://localhost:8080/",
          "height": 476
        },
        "outputId": "d50875c0-1d6c-4211-f79b-8e56cfcdd2d7"
      },
      "source": [
        "%%bash\n",
        "apt install netcat -y"
      ],
      "execution_count": 23,
      "outputs": [
        {
          "output_type": "stream",
          "text": [
            "Reading package lists...\n",
            "Building dependency tree...\n",
            "Reading state information...\n",
            "The following additional packages will be installed:\n",
            "  netcat-traditional\n",
            "The following NEW packages will be installed:\n",
            "  netcat netcat-traditional\n",
            "0 upgraded, 2 newly installed, 0 to remove and 25 not upgraded.\n",
            "Need to get 65.1 kB of archives.\n",
            "After this operation, 157 kB of additional disk space will be used.\n",
            "Get:1 http://archive.ubuntu.com/ubuntu bionic/universe amd64 netcat-traditional amd64 1.10-41.1 [61.7 kB]\n",
            "Get:2 http://archive.ubuntu.com/ubuntu bionic/universe amd64 netcat all 1.10-41.1 [3,436 B]\n",
            "Fetched 65.1 kB in 1s (122 kB/s)\n",
            "Selecting previously unselected package netcat-traditional.\r\n",
            "(Reading database ... \r(Reading database ... 5%\r(Reading database ... 10%\r(Reading database ... 15%\r(Reading database ... 20%\r(Reading database ... 25%\r(Reading database ... 30%\r(Reading database ... 35%\r(Reading database ... 40%\r(Reading database ... 45%\r(Reading database ... 50%\r(Reading database ... 55%\r(Reading database ... 60%\r(Reading database ... 65%\r(Reading database ... 70%\r(Reading database ... 75%\r(Reading database ... 80%\r(Reading database ... 85%\r(Reading database ... 90%\r(Reading database ... 95%\r(Reading database ... 100%\r(Reading database ... 136889 files and directories currently installed.)\r\n",
            "Preparing to unpack .../netcat-traditional_1.10-41.1_amd64.deb ...\r\n",
            "Unpacking netcat-traditional (1.10-41.1) ...\r\n",
            "Selecting previously unselected package netcat.\r\n",
            "Preparing to unpack .../netcat_1.10-41.1_all.deb ...\r\n",
            "Unpacking netcat (1.10-41.1) ...\r\n",
            "Setting up netcat-traditional (1.10-41.1) ...\r\n",
            "update-alternatives: using /bin/nc.traditional to provide /bin/nc (nc) in auto mode\r\n",
            "Setting up netcat (1.10-41.1) ...\r\n",
            "Processing triggers for man-db (2.8.3-2ubuntu0.1) ...\r\n"
          ],
          "name": "stdout"
        },
        {
          "output_type": "stream",
          "text": [
            "\n",
            "WARNING: apt does not have a stable CLI interface. Use with caution in scripts.\n",
            "\n"
          ],
          "name": "stderr"
        }
      ]
    },
    {
      "cell_type": "code",
      "metadata": {
        "id": "I5a4yNQ6nWIl",
        "colab_type": "code",
        "colab": {
          "base_uri": "https://localhost:8080/",
          "height": 289
        },
        "outputId": "27439bad-3c30-46c8-a0cc-d0c40c8c6b28"
      },
      "source": [
        "%%bash\n",
        "apt-get install net-tools -y\n"
      ],
      "execution_count": 27,
      "outputs": [
        {
          "output_type": "stream",
          "text": [
            "Reading package lists...\n",
            "Building dependency tree...\n",
            "Reading state information...\n",
            "The following NEW packages will be installed:\n",
            "  net-tools\n",
            "0 upgraded, 1 newly installed, 0 to remove and 25 not upgraded.\n",
            "Need to get 194 kB of archives.\n",
            "After this operation, 803 kB of additional disk space will be used.\n",
            "Get:1 http://archive.ubuntu.com/ubuntu bionic/main amd64 net-tools amd64 1.60+git20161116.90da8a0-1ubuntu1 [194 kB]\n",
            "Fetched 194 kB in 1s (354 kB/s)\n",
            "Selecting previously unselected package net-tools.\r\n",
            "(Reading database ... \r(Reading database ... 5%\r(Reading database ... 10%\r(Reading database ... 15%\r(Reading database ... 20%\r(Reading database ... 25%\r(Reading database ... 30%\r(Reading database ... 35%\r(Reading database ... 40%\r(Reading database ... 45%\r(Reading database ... 50%\r(Reading database ... 55%\r(Reading database ... 60%\r(Reading database ... 65%\r(Reading database ... 70%\r(Reading database ... 75%\r(Reading database ... 80%\r(Reading database ... 85%\r(Reading database ... 90%\r(Reading database ... 95%\r(Reading database ... 100%\r(Reading database ... 136928 files and directories currently installed.)\r\n",
            "Preparing to unpack .../net-tools_1.60+git20161116.90da8a0-1ubuntu1_amd64.deb ...\r\n",
            "Unpacking net-tools (1.60+git20161116.90da8a0-1ubuntu1) ...\r\n",
            "Setting up net-tools (1.60+git20161116.90da8a0-1ubuntu1) ...\r\n",
            "Processing triggers for man-db (2.8.3-2ubuntu0.1) ...\r\n"
          ],
          "name": "stdout"
        }
      ]
    },
    {
      "cell_type": "code",
      "metadata": {
        "id": "HCFk9f_2ntqi",
        "colab_type": "code",
        "colab": {
          "base_uri": "https://localhost:8080/",
          "height": 289
        },
        "outputId": "1e6a20e7-da52-43c5-bc42-f928f3ef84f6"
      },
      "source": [
        "%%bash\n",
        "ifconfig"
      ],
      "execution_count": 28,
      "outputs": [
        {
          "output_type": "stream",
          "text": [
            "eth0: flags=4163<UP,BROADCAST,RUNNING,MULTICAST>  mtu 1500\n",
            "        inet 172.28.0.2  netmask 255.255.0.0  broadcast 172.28.255.255\n",
            "        ether 02:42:ac:1c:00:02  txqueuelen 0  (Ethernet)\n",
            "        RX packets 4871  bytes 3017614 (3.0 MB)\n",
            "        RX errors 0  dropped 0  overruns 0  frame 0\n",
            "        TX packets 4351  bytes 1626950 (1.6 MB)\n",
            "        TX errors 0  dropped 0 overruns 0  carrier 0  collisions 0\n",
            "\n",
            "lo: flags=73<UP,LOOPBACK,RUNNING>  mtu 65536\n",
            "        inet 127.0.0.1  netmask 255.0.0.0\n",
            "        loop  txqueuelen 1000  (Local Loopback)\n",
            "        RX packets 2157  bytes 969205 (969.2 KB)\n",
            "        RX errors 0  dropped 0  overruns 0  frame 0\n",
            "        TX packets 2157  bytes 969205 (969.2 KB)\n",
            "        TX errors 0  dropped 0 overruns 0  carrier 0  collisions 0\n",
            "\n"
          ],
          "name": "stdout"
        }
      ]
    },
    {
      "cell_type": "code",
      "metadata": {
        "id": "LLScYvtEn4Dd",
        "colab_type": "code",
        "colab": {
          "base_uri": "https://localhost:8080/",
          "height": 680
        },
        "outputId": "accbcb42-ff64-4e5f-9f0d-d71c372525a5"
      },
      "source": [
        "%%bash\n",
        "apt install -y tmate"
      ],
      "execution_count": 30,
      "outputs": [
        {
          "output_type": "stream",
          "text": [
            "Reading package lists...\n",
            "Building dependency tree...\n",
            "Reading state information...\n",
            "The following additional packages will be installed:\n",
            "  libevent-2.1-6 libmsgpackc2 libssh-4\n",
            "The following NEW packages will be installed:\n",
            "  libevent-2.1-6 libmsgpackc2 libssh-4 tmate\n",
            "0 upgraded, 4 newly installed, 0 to remove and 25 not upgraded.\n",
            "Need to get 562 kB of archives.\n",
            "After this operation, 1,632 kB of additional disk space will be used.\n",
            "Get:1 http://archive.ubuntu.com/ubuntu bionic/main amd64 libevent-2.1-6 amd64 2.1.8-stable-4build1 [133 kB]\n",
            "Get:2 http://archive.ubuntu.com/ubuntu bionic-updates/main amd64 libssh-4 amd64 0.8.0~20170825.94fa1e38-1ubuntu0.5 [169 kB]\n",
            "Get:3 http://archive.ubuntu.com/ubuntu bionic/universe amd64 libmsgpackc2 amd64 2.1.5-1 [14.3 kB]\n",
            "Get:4 http://archive.ubuntu.com/ubuntu bionic/universe amd64 tmate amd64 2.2.1-1build1 [245 kB]\n",
            "Fetched 562 kB in 1s (611 kB/s)\n",
            "Selecting previously unselected package libevent-2.1-6:amd64.\r\n",
            "(Reading database ... \r(Reading database ... 5%\r(Reading database ... 10%\r(Reading database ... 15%\r(Reading database ... 20%\r(Reading database ... 25%\r(Reading database ... 30%\r(Reading database ... 35%\r(Reading database ... 40%\r(Reading database ... 45%\r(Reading database ... 50%\r(Reading database ... 55%\r(Reading database ... 60%\r(Reading database ... 65%\r(Reading database ... 70%\r(Reading database ... 75%\r(Reading database ... 80%\r(Reading database ... 85%\r(Reading database ... 90%\r(Reading database ... 95%\r(Reading database ... 100%\r(Reading database ... 136976 files and directories currently installed.)\r\n",
            "Preparing to unpack .../libevent-2.1-6_2.1.8-stable-4build1_amd64.deb ...\r\n",
            "Unpacking libevent-2.1-6:amd64 (2.1.8-stable-4build1) ...\r\n",
            "Selecting previously unselected package libssh-4:amd64.\r\n",
            "Preparing to unpack .../libssh-4_0.8.0~20170825.94fa1e38-1ubuntu0.5_amd64.deb ...\r\n",
            "Unpacking libssh-4:amd64 (0.8.0~20170825.94fa1e38-1ubuntu0.5) ...\r\n",
            "Selecting previously unselected package libmsgpackc2:amd64.\r\n",
            "Preparing to unpack .../libmsgpackc2_2.1.5-1_amd64.deb ...\r\n",
            "Unpacking libmsgpackc2:amd64 (2.1.5-1) ...\r\n",
            "Selecting previously unselected package tmate.\r\n",
            "Preparing to unpack .../tmate_2.2.1-1build1_amd64.deb ...\r\n",
            "Unpacking tmate (2.2.1-1build1) ...\r\n",
            "Setting up libevent-2.1-6:amd64 (2.1.8-stable-4build1) ...\r\n",
            "Setting up libssh-4:amd64 (0.8.0~20170825.94fa1e38-1ubuntu0.5) ...\r\n",
            "Setting up libmsgpackc2:amd64 (2.1.5-1) ...\r\n",
            "Setting up tmate (2.2.1-1build1) ...\r\n",
            "Processing triggers for man-db (2.8.3-2ubuntu0.1) ...\r\n",
            "Processing triggers for libc-bin (2.27-3ubuntu1) ...\r\n",
            "/sbin/ldconfig.real: /usr/local/lib/python3.6/dist-packages/ideep4py/lib/libmkldnn.so.0 is not a symbolic link\r\n",
            "\r\n"
          ],
          "name": "stdout"
        },
        {
          "output_type": "stream",
          "text": [
            "\n",
            "WARNING: apt does not have a stable CLI interface. Use with caution in scripts.\n",
            "\n"
          ],
          "name": "stderr"
        }
      ]
    },
    {
      "cell_type": "code",
      "metadata": {
        "id": "mP868a9boVcg",
        "colab_type": "code",
        "colab": {
          "base_uri": "https://localhost:8080/",
          "height": 34
        },
        "outputId": "c4ab0e4f-e196-4d69-e602-507a88475b0c"
      },
      "source": [
        "%%bash\n",
        "tmate"
      ],
      "execution_count": 31,
      "outputs": [
        {
          "output_type": "stream",
          "text": [
            "open terminal failed: not a terminal\n"
          ],
          "name": "stderr"
        }
      ]
    },
    {
      "cell_type": "code",
      "metadata": {
        "id": "qTItXcNgomTe",
        "colab_type": "code",
        "colab": {
          "base_uri": "https://localhost:8080/",
          "height": 136
        },
        "outputId": "e7683dab-8602-415a-d08a-71bf2809eebf"
      },
      "source": [
        "%%bash\n",
        "ls\n",
        "cd sample_data\n",
        "ls"
      ],
      "execution_count": 34,
      "outputs": [
        {
          "output_type": "stream",
          "text": [
            "sample_data\n",
            "anscombe.json\n",
            "california_housing_test.csv\n",
            "california_housing_train.csv\n",
            "mnist_test.csv\n",
            "mnist_train_small.csv\n",
            "README.md\n"
          ],
          "name": "stdout"
        }
      ]
    },
    {
      "cell_type": "code",
      "metadata": {
        "id": "XnZPzCcpo-V3",
        "colab_type": "code",
        "colab": {
          "base_uri": "https://localhost:8080/",
          "height": 153
        },
        "outputId": "e91bde96-97e9-4c76-d11e-e4f56070aba0"
      },
      "source": [
        "%%bash\n"
      ],
      "execution_count": 35,
      "outputs": [
        {
          "output_type": "stream",
          "text": [
            "Reading package lists...\n",
            "Building dependency tree...\n",
            "Reading state information...\n",
            "git is already the newest version (1:2.17.1-1ubuntu0.5).\n",
            "0 upgraded, 0 newly installed, 0 to remove and 25 not upgraded.\n"
          ],
          "name": "stdout"
        },
        {
          "output_type": "stream",
          "text": [
            "\n",
            "WARNING: apt does not have a stable CLI interface. Use with caution in scripts.\n",
            "\n"
          ],
          "name": "stderr"
        }
      ]
    },
    {
      "cell_type": "code",
      "metadata": {
        "id": "yybG1K0CpD6l",
        "colab_type": "code",
        "colab": {
          "base_uri": "https://localhost:8080/",
          "height": 1000
        },
        "outputId": "8f4618fb-5cc7-467a-c94a-591bf564ac35"
      },
      "source": [
        "%%bash\n",
        "apt install wget python3-pip -y"
      ],
      "execution_count": 36,
      "outputs": [
        {
          "output_type": "stream",
          "text": [
            "Reading package lists...\n",
            "Building dependency tree...\n",
            "Reading state information...\n",
            "wget is already the newest version (1.19.4-1ubuntu2.2).\n",
            "The following additional packages will be installed:\n",
            "  python-pip-whl python3-asn1crypto python3-cffi-backend python3-crypto\n",
            "  python3-cryptography python3-keyring python3-keyrings.alt\n",
            "  python3-secretstorage python3-setuptools python3-wheel python3-xdg\n",
            "Suggested packages:\n",
            "  python-crypto-doc python-cryptography-doc python3-cryptography-vectors\n",
            "  gnome-keyring libkf5wallet-bin gir1.2-gnomekeyring-1.0\n",
            "  python-secretstorage-doc python-setuptools-doc\n",
            "The following NEW packages will be installed:\n",
            "  python-pip-whl python3-asn1crypto python3-cffi-backend python3-crypto\n",
            "  python3-cryptography python3-keyring python3-keyrings.alt python3-pip\n",
            "  python3-secretstorage python3-setuptools python3-wheel python3-xdg\n",
            "0 upgraded, 12 newly installed, 0 to remove and 25 not upgraded.\n",
            "Need to get 2,740 kB of archives.\n",
            "After this operation, 8,024 kB of additional disk space will be used.\n",
            "Get:1 http://archive.ubuntu.com/ubuntu bionic-updates/universe amd64 python-pip-whl all 9.0.1-2.3~ubuntu1.18.04.1 [1,653 kB]\n",
            "Get:2 http://archive.ubuntu.com/ubuntu bionic/main amd64 python3-asn1crypto all 0.24.0-1 [72.8 kB]\n",
            "Get:3 http://archive.ubuntu.com/ubuntu bionic/main amd64 python3-cffi-backend amd64 1.11.5-1 [64.6 kB]\n",
            "Get:4 http://archive.ubuntu.com/ubuntu bionic/main amd64 python3-crypto amd64 2.6.1-8ubuntu2 [244 kB]\n",
            "Get:5 http://archive.ubuntu.com/ubuntu bionic-updates/main amd64 python3-cryptography amd64 2.1.4-1ubuntu1.3 [221 kB]\n",
            "Get:6 http://archive.ubuntu.com/ubuntu bionic/main amd64 python3-secretstorage all 2.3.1-2 [12.1 kB]\n",
            "Get:7 http://archive.ubuntu.com/ubuntu bionic/main amd64 python3-keyring all 10.6.0-1 [26.7 kB]\n",
            "Get:8 http://archive.ubuntu.com/ubuntu bionic/main amd64 python3-keyrings.alt all 3.0-1 [16.6 kB]\n",
            "Get:9 http://archive.ubuntu.com/ubuntu bionic-updates/universe amd64 python3-pip all 9.0.1-2.3~ubuntu1.18.04.1 [114 kB]\n",
            "Get:10 http://archive.ubuntu.com/ubuntu bionic/main amd64 python3-setuptools all 39.0.1-2 [248 kB]\n",
            "Get:11 http://archive.ubuntu.com/ubuntu bionic/universe amd64 python3-wheel all 0.30.0-0.2 [36.5 kB]\n",
            "Get:12 http://archive.ubuntu.com/ubuntu bionic/main amd64 python3-xdg all 0.25-4ubuntu1 [31.4 kB]\n",
            "Fetched 2,740 kB in 1s (2,820 kB/s)\n",
            "Selecting previously unselected package python-pip-whl.\r\n",
            "(Reading database ... \r(Reading database ... 5%\r(Reading database ... 10%\r(Reading database ... 15%\r(Reading database ... 20%\r(Reading database ... 25%\r(Reading database ... 30%\r(Reading database ... 35%\r(Reading database ... 40%\r(Reading database ... 45%\r(Reading database ... 50%\r(Reading database ... 55%\r(Reading database ... 60%\r(Reading database ... 65%\r(Reading database ... 70%\r(Reading database ... 75%\r(Reading database ... 80%\r(Reading database ... 85%\r(Reading database ... 90%\r(Reading database ... 95%\r(Reading database ... 100%\r(Reading database ... 137000 files and directories currently installed.)\r\n",
            "Preparing to unpack .../00-python-pip-whl_9.0.1-2.3~ubuntu1.18.04.1_all.deb ...\r\n",
            "Unpacking python-pip-whl (9.0.1-2.3~ubuntu1.18.04.1) ...\r\n",
            "Selecting previously unselected package python3-asn1crypto.\r\n",
            "Preparing to unpack .../01-python3-asn1crypto_0.24.0-1_all.deb ...\r\n",
            "Unpacking python3-asn1crypto (0.24.0-1) ...\r\n",
            "Selecting previously unselected package python3-cffi-backend.\r\n",
            "Preparing to unpack .../02-python3-cffi-backend_1.11.5-1_amd64.deb ...\r\n",
            "Unpacking python3-cffi-backend (1.11.5-1) ...\r\n",
            "Selecting previously unselected package python3-crypto.\r\n",
            "Preparing to unpack .../03-python3-crypto_2.6.1-8ubuntu2_amd64.deb ...\r\n",
            "Unpacking python3-crypto (2.6.1-8ubuntu2) ...\r\n",
            "Selecting previously unselected package python3-cryptography.\r\n",
            "Preparing to unpack .../04-python3-cryptography_2.1.4-1ubuntu1.3_amd64.deb ...\r\n",
            "Unpacking python3-cryptography (2.1.4-1ubuntu1.3) ...\r\n",
            "Selecting previously unselected package python3-secretstorage.\r\n",
            "Preparing to unpack .../05-python3-secretstorage_2.3.1-2_all.deb ...\r\n",
            "Unpacking python3-secretstorage (2.3.1-2) ...\r\n",
            "Selecting previously unselected package python3-keyring.\r\n",
            "Preparing to unpack .../06-python3-keyring_10.6.0-1_all.deb ...\r\n",
            "Unpacking python3-keyring (10.6.0-1) ...\r\n",
            "Selecting previously unselected package python3-keyrings.alt.\r\n",
            "Preparing to unpack .../07-python3-keyrings.alt_3.0-1_all.deb ...\r\n",
            "Unpacking python3-keyrings.alt (3.0-1) ...\r\n",
            "Selecting previously unselected package python3-pip.\r\n",
            "Preparing to unpack .../08-python3-pip_9.0.1-2.3~ubuntu1.18.04.1_all.deb ...\r\n",
            "Unpacking python3-pip (9.0.1-2.3~ubuntu1.18.04.1) ...\r\n",
            "Selecting previously unselected package python3-setuptools.\r\n",
            "Preparing to unpack .../09-python3-setuptools_39.0.1-2_all.deb ...\r\n",
            "Unpacking python3-setuptools (39.0.1-2) ...\r\n",
            "Selecting previously unselected package python3-wheel.\r\n",
            "Preparing to unpack .../10-python3-wheel_0.30.0-0.2_all.deb ...\r\n",
            "Unpacking python3-wheel (0.30.0-0.2) ...\r\n",
            "Selecting previously unselected package python3-xdg.\r\n",
            "Preparing to unpack .../11-python3-xdg_0.25-4ubuntu1_all.deb ...\r\n",
            "Unpacking python3-xdg (0.25-4ubuntu1) ...\r\n",
            "Setting up python-pip-whl (9.0.1-2.3~ubuntu1.18.04.1) ...\r\n",
            "Setting up python3-cffi-backend (1.11.5-1) ...\r\n",
            "Setting up python3-crypto (2.6.1-8ubuntu2) ...\r\n",
            "Setting up python3-xdg (0.25-4ubuntu1) ...\r\n",
            "Setting up python3-keyrings.alt (3.0-1) ...\r\n",
            "Setting up python3-wheel (0.30.0-0.2) ...\r\n",
            "Setting up python3-asn1crypto (0.24.0-1) ...\r\n",
            "Setting up python3-pip (9.0.1-2.3~ubuntu1.18.04.1) ...\r\n",
            "Setting up python3-setuptools (39.0.1-2) ...\r\n",
            "Setting up python3-cryptography (2.1.4-1ubuntu1.3) ...\r\n",
            "Setting up python3-secretstorage (2.3.1-2) ...\r\n",
            "Setting up python3-keyring (10.6.0-1) ...\r\n",
            "Processing triggers for man-db (2.8.3-2ubuntu0.1) ...\r\n"
          ],
          "name": "stdout"
        },
        {
          "output_type": "stream",
          "text": [
            "\n",
            "WARNING: apt does not have a stable CLI interface. Use with caution in scripts.\n",
            "\n"
          ],
          "name": "stderr"
        }
      ]
    },
    {
      "cell_type": "code",
      "metadata": {
        "id": "uwzWo_FMp7FL",
        "colab_type": "code",
        "colab": {}
      },
      "source": [
        "%%bash\n",
        "mkdir Projects\n"
      ],
      "execution_count": 0,
      "outputs": []
    }
  ]
}